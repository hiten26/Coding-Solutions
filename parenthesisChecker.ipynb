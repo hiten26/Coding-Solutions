{
 "cells": [
  {
   "cell_type": "code",
   "execution_count": 1,
   "metadata": {},
   "outputs": [],
   "source": [
    "def paranthesisChecker(s):\n",
    "    \n",
    "    opening = [\"(\",\"[\",\"{\"]\n",
    "    closing = [\"]\",\")\",\"}\"]\n",
    "    \n",
    "    list_as_stack = []\n",
    "    \n",
    "    match_dict = {\")\":\"(\", \"]\":\"[\", \"}\":\"{\"}\n",
    "    \n",
    "    for i in s:\n",
    "        if i in opening:\n",
    "            list_as_stack.append(i)\n",
    "            \n",
    "        elif i in closing:\n",
    "            if len(list_as_stack)==0:\n",
    "                print(\"not balanced\")\n",
    "                return\n",
    "\n",
    "            p = list_as_stack.pop()\n",
    "            \n",
    "            if match_dict[i] != p:\n",
    "                print(\"not balanced\")\n",
    "                return\n",
    "                \n",
    "    \n",
    "    if len(list_as_stack)==0:\n",
    "        print (\"balanced\")\n",
    "    else:\n",
    "        print(\"not balanced\")\n",
    "        \n",
    "    return"
   ]
  },
  {
   "cell_type": "code",
   "execution_count": 2,
   "metadata": {},
   "outputs": [
    {
     "name": "stdout",
     "output_type": "stream",
     "text": [
      "Enter Number of Testcases: \n",
      "1\n",
      "(())()\n",
      "balanced\n"
     ]
    }
   ],
   "source": [
    "t = input(\"Enter Number of Testcases: \\n\")   # Python 3\n",
    "\n",
    "for i in range(int(t)):\n",
    "    s=input()\n",
    "    paranthesisChecker(s)"
   ]
  },
  {
   "cell_type": "code",
   "execution_count": null,
   "metadata": {},
   "outputs": [],
   "source": []
  }
 ],
 "metadata": {
  "kernelspec": {
   "display_name": "Python 3",
   "language": "python",
   "name": "python3"
  },
  "language_info": {
   "codemirror_mode": {
    "name": "ipython",
    "version": 3
   },
   "file_extension": ".py",
   "mimetype": "text/x-python",
   "name": "python",
   "nbconvert_exporter": "python",
   "pygments_lexer": "ipython3",
   "version": "3.6.5"
  }
 },
 "nbformat": 4,
 "nbformat_minor": 2
}
