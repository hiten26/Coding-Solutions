{
 "cells": [
  {
   "cell_type": "code",
   "execution_count": 1,
   "metadata": {},
   "outputs": [],
   "source": [
    "def countUniquePairs(arr, k):\n",
    "    n = len(arr)\n",
    "    m = {}\n",
    "    res = []\n",
    "    for i in arr:\n",
    "        m[i]=1\n",
    "    for i in arr:\n",
    "        remain = k-i\n",
    "        if remain in m:\n",
    "            if i <= remain:\n",
    "                res.append((i,remain))\n",
    "            else:\n",
    "                res.append((remain,i))\n",
    "    print(len(set(res)))"
   ]
  },
  {
   "cell_type": "code",
   "execution_count": 2,
   "metadata": {},
   "outputs": [
    {
     "name": "stdout",
     "output_type": "stream",
     "text": [
      "2\n"
     ]
    }
   ],
   "source": [
    "countUniquePairs([1,5,7,-1,7],6)"
   ]
  }
 ],
 "metadata": {
  "kernelspec": {
   "display_name": "Python 3",
   "language": "python",
   "name": "python3"
  },
  "language_info": {
   "codemirror_mode": {
    "name": "ipython",
    "version": 3
   },
   "file_extension": ".py",
   "mimetype": "text/x-python",
   "name": "python",
   "nbconvert_exporter": "python",
   "pygments_lexer": "ipython3",
   "version": "3.6.5"
  }
 },
 "nbformat": 4,
 "nbformat_minor": 2
}
