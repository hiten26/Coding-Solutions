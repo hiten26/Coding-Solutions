{
 "cells": [
  {
   "cell_type": "code",
   "execution_count": 18,
   "metadata": {},
   "outputs": [],
   "source": [
    "def maxProfit(prices) -> int:\n",
    "    left_max = [float(\"-inf\")]*len(prices)\n",
    "    right_min = [float(\"inf\")]*len(prices)\n",
    "    till_now = float(\"-inf\")\n",
    "    for i in range(len(prices)-1,-1,-1):\n",
    "        left_max[i] = max(prices[i],till_now)\n",
    "        till_now = left_max[i]\n",
    "        \n",
    "    till_now_min = float(\"inf\")\n",
    "    for i in range(len(prices)):\n",
    "        right_min[i] = min(prices[i],till_now_min)\n",
    "        till_now_min = right_min[i]\n",
    "        \n",
    "    profit = float(\"-inf\")\n",
    "    for i in range(len(left_max)):\n",
    "        profit = max(left_max[i]-right_min[i],profit)\n",
    "    \n",
    "    return profit\n",
    "            "
   ]
  },
  {
   "cell_type": "code",
   "execution_count": 19,
   "metadata": {},
   "outputs": [
    {
     "data": {
      "text/plain": [
       "5"
      ]
     },
     "execution_count": 19,
     "metadata": {},
     "output_type": "execute_result"
    }
   ],
   "source": [
    "maxProfit([7,1,5,3,6,4])"
   ]
  },
  {
   "cell_type": "code",
   "execution_count": null,
   "metadata": {},
   "outputs": [],
   "source": []
  }
 ],
 "metadata": {
  "kernelspec": {
   "display_name": "Python 3",
   "language": "python",
   "name": "python3"
  },
  "language_info": {
   "codemirror_mode": {
    "name": "ipython",
    "version": 3
   },
   "file_extension": ".py",
   "mimetype": "text/x-python",
   "name": "python",
   "nbconvert_exporter": "python",
   "pygments_lexer": "ipython3",
   "version": "3.6.5"
  }
 },
 "nbformat": 4,
 "nbformat_minor": 2
}
