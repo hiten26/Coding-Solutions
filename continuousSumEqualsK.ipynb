{
 "cells": [
  {
   "cell_type": "code",
   "execution_count": 3,
   "metadata": {},
   "outputs": [],
   "source": [
    "def sumEqualsK(a, s):\n",
    "    curr_sum = a[0]\n",
    "    start= 0\n",
    "    n = len(a)\n",
    "\n",
    "    i = 1\n",
    "    while(i<=n):\n",
    "        \n",
    "        curr_sum = curr_sum + a[i]\n",
    "        \n",
    "        if(curr_sum > s):\n",
    "            curr_sum -= a[start]\n",
    "            start = start + 1\n",
    "        \n",
    "        if(curr_sum==s):\n",
    "            return (start, i)\n",
    "        \n",
    "        i+=1"
   ]
  },
  {
   "cell_type": "code",
   "execution_count": 4,
   "metadata": {},
   "outputs": [
    {
     "data": {
      "text/plain": [
       "(1, 4)"
      ]
     },
     "execution_count": 4,
     "metadata": {},
     "output_type": "execute_result"
    }
   ],
   "source": [
    "a = [15,2, 4 , 8, 9, 5, 10, 23]\n",
    "s = 23\n",
    "sumEqualsK(a,s)"
   ]
  }
 ],
 "metadata": {
  "kernelspec": {
   "display_name": "Python 3",
   "language": "python",
   "name": "python3"
  },
  "language_info": {
   "codemirror_mode": {
    "name": "ipython",
    "version": 3
   },
   "file_extension": ".py",
   "mimetype": "text/x-python",
   "name": "python",
   "nbconvert_exporter": "python",
   "pygments_lexer": "ipython3",
   "version": "3.6.5"
  }
 },
 "nbformat": 4,
 "nbformat_minor": 2
}
